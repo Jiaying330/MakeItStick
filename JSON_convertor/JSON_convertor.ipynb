{
 "cells": [
  {
   "cell_type": "code",
   "execution_count": 3,
   "id": "528db321",
   "metadata": {},
   "outputs": [],
   "source": [
    "import json\n",
    "\n",
    "def convert_txt_to_json(input_file, output_file):\n",
    "    questions = []\n",
    "    \n",
    "    try:\n",
    "        with open(input_file, 'r') as file:\n",
    "            lines = file.readlines()\n",
    "            for i, line in enumerate(lines):\n",
    "                question = line.strip()\n",
    "                if question:\n",
    "                    questions.append({\"id\": i + 1, \"problem\": question, \"type\": })\n",
    "        \n",
    "        with open(output_file, 'w') as json_file:\n",
    "            json.dump(questions, json_file, indent=4)\n",
    "            \n",
    "        print(f\"Successfully converted {input_file} to {output_file}\")\n",
    "    \n",
    "    except FileNotFoundError:\n",
    "        print(f\"Error: The file {input_file} does not exist.\")\n",
    "    except Exception as e:\n",
    "        print(f\"An error occurred: {e}\")"
   ]
  },
  {
   "cell_type": "code",
   "execution_count": 4,
   "id": "100d4aa7",
   "metadata": {},
   "outputs": [
    {
     "name": "stdout",
     "output_type": "stream",
     "text": [
      "Successfully converted questions.txt to questions.json\n"
     ]
    }
   ],
   "source": [
    "input_file = 'questions.txt'\n",
    "output_file = 'questions.json'\n",
    "\n",
    "convert_txt_to_json(input_file, output_file)"
   ]
  },
  {
   "cell_type": "code",
   "execution_count": 5,
   "id": "01f18625",
   "metadata": {},
   "outputs": [
    {
     "name": "stdout",
     "output_type": "stream",
     "text": [
      "Successfully converted network_problems.txt to network_problems.json\n"
     ]
    }
   ],
   "source": [
    "input_file = 'network_problems.txt'\n",
    "output_file = 'network_problems.json'\n",
    "\n",
    "convert_txt_to_json(input_file, output_file)"
   ]
  },
  {
   "cell_type": "code",
   "execution_count": 1,
   "id": "2e939421",
   "metadata": {},
   "outputs": [],
   "source": [
    "import json\n",
    "\n",
    "def convert_txt_to_json(input_file, output_file):\n",
    "    questions = []\n",
    "    current_type = None\n",
    "    question_id = 1\n",
    "    \n",
    "    try:\n",
    "        with open(input_file, 'r') as file:\n",
    "            lines = file.readlines()\n",
    "            for line in lines:\n",
    "                stripped_line = line.strip()\n",
    "                if not stripped_line:\n",
    "                    continue\n",
    "                \n",
    "                if stripped_line.isalpha():  # Assuming type titles are single word and contain only letters\n",
    "                    current_type = stripped_line\n",
    "                else:\n",
    "                    if current_type is not None:\n",
    "                        questions.append({\"id\": question_id, \"problem\": stripped_line, \"type\": current_type})\n",
    "                        question_id += 1\n",
    "        \n",
    "        with open(output_file, 'w') as json_file:\n",
    "            json.dump(questions, json_file, indent=4)\n",
    "            \n",
    "        print(f\"Successfully converted {input_file} to {output_file}\")\n",
    "    \n",
    "    except FileNotFoundError:\n",
    "        print(f\"Error: The file {input_file} does not exist.\")\n",
    "    except Exception as e:\n",
    "        print(f\"An error occurred: {e}\")\n"
   ]
  },
  {
   "cell_type": "code",
   "execution_count": 2,
   "id": "f391f294",
   "metadata": {},
   "outputs": [
    {
     "name": "stdout",
     "output_type": "stream",
     "text": [
      "Successfully converted questions.txt to questions.json\n"
     ]
    }
   ],
   "source": [
    "input_file = 'questions.txt'\n",
    "output_file = 'questions.json'\n",
    "\n",
    "convert_txt_to_json(input_file, output_file)"
   ]
  },
  {
   "cell_type": "code",
   "execution_count": null,
   "id": "0e8d285c",
   "metadata": {},
   "outputs": [],
   "source": []
  }
 ],
 "metadata": {
  "kernelspec": {
   "display_name": "Python 3 (ipykernel)",
   "language": "python",
   "name": "python3"
  },
  "language_info": {
   "codemirror_mode": {
    "name": "ipython",
    "version": 3
   },
   "file_extension": ".py",
   "mimetype": "text/x-python",
   "name": "python",
   "nbconvert_exporter": "python",
   "pygments_lexer": "ipython3",
   "version": "3.7.16"
  }
 },
 "nbformat": 4,
 "nbformat_minor": 5
}
